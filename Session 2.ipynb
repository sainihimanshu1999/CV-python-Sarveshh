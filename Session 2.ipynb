{
 "cells": [
  {
   "cell_type": "code",
   "execution_count": 1,
   "id": "9fdfa447",
   "metadata": {},
   "outputs": [],
   "source": [
    "# Data types are just the clasification of items"
   ]
  },
  {
   "cell_type": "code",
   "execution_count": 2,
   "id": "3efba2a4",
   "metadata": {},
   "outputs": [],
   "source": [
    "# numbers/integers - normal numbers, decimal numbers\n",
    "# string - characters, letters and words"
   ]
  },
  {
   "cell_type": "code",
   "execution_count": 7,
   "id": "9a0d34fe",
   "metadata": {},
   "outputs": [],
   "source": [
    "a = 'sarvershh'"
   ]
  },
  {
   "cell_type": "code",
   "execution_count": 11,
   "id": "838ccd79",
   "metadata": {},
   "outputs": [
    {
     "data": {
      "text/plain": [
       "int"
      ]
     },
     "execution_count": 11,
     "metadata": {},
     "output_type": "execute_result"
    }
   ],
   "source": [
    "type(32)"
   ]
  },
  {
   "cell_type": "code",
   "execution_count": 12,
   "id": "31fa7f3c",
   "metadata": {},
   "outputs": [
    {
     "name": "stdout",
     "output_type": "stream",
     "text": [
      "103\n"
     ]
    }
   ],
   "source": [
    "print(32+71)"
   ]
  },
  {
   "cell_type": "code",
   "execution_count": 13,
   "id": "0b35aae8",
   "metadata": {},
   "outputs": [
    {
     "name": "stdout",
     "output_type": "stream",
     "text": [
      "supercomputer\n"
     ]
    }
   ],
   "source": [
    "print('super'+'computer')"
   ]
  },
  {
   "cell_type": "code",
   "execution_count": 15,
   "id": "9539c4d2",
   "metadata": {},
   "outputs": [
    {
     "ename": "TypeError",
     "evalue": "unsupported operand type(s) for +: 'int' and 'str'",
     "output_type": "error",
     "traceback": [
      "\u001b[0;31m---------------------------------------------------------------------------\u001b[0m",
      "\u001b[0;31mTypeError\u001b[0m                                 Traceback (most recent call last)",
      "\u001b[0;32m/tmp/ipykernel_10798/2781207156.py\u001b[0m in \u001b[0;36m<module>\u001b[0;34m\u001b[0m\n\u001b[0;32m----> 1\u001b[0;31m \u001b[0mprint\u001b[0m\u001b[0;34m(\u001b[0m\u001b[0;36m21\u001b[0m\u001b[0;34m+\u001b[0m\u001b[0;34m'guns'\u001b[0m\u001b[0;34m)\u001b[0m \u001b[0;31m#basically we can't add integer and string datatype\u001b[0m\u001b[0;34m\u001b[0m\u001b[0;34m\u001b[0m\u001b[0m\n\u001b[0m",
      "\u001b[0;31mTypeError\u001b[0m: unsupported operand type(s) for +: 'int' and 'str'"
     ]
    }
   ],
   "source": [
    "print(21+'guns') #basically we can't add integer and string datatype"
   ]
  },
  {
   "cell_type": "code",
   "execution_count": 16,
   "id": "404af175",
   "metadata": {},
   "outputs": [],
   "source": [
    "# For many cases same datatypes are required to perform various operation(+-*/) but there are also some exceptions"
   ]
  },
  {
   "cell_type": "code",
   "execution_count": 19,
   "id": "d0fbdbc4",
   "metadata": {},
   "outputs": [
    {
     "data": {
      "text/plain": [
       "int"
      ]
     },
     "execution_count": 19,
     "metadata": {},
     "output_type": "execute_result"
    }
   ],
   "source": [
    "type(-2) # positive and negative numbers are supported in python"
   ]
  },
  {
   "cell_type": "code",
   "execution_count": 21,
   "id": "17822b7e",
   "metadata": {},
   "outputs": [
    {
     "data": {
      "text/plain": [
       "float"
      ]
     },
     "execution_count": 21,
     "metadata": {},
     "output_type": "execute_result"
    }
   ],
   "source": [
    "type(0.2)"
   ]
  },
  {
   "cell_type": "code",
   "execution_count": 22,
   "id": "19835f5e",
   "metadata": {},
   "outputs": [
    {
     "name": "stdout",
     "output_type": "stream",
     "text": [
      "4\n"
     ]
    }
   ],
   "source": [
    "print(2+2)"
   ]
  },
  {
   "cell_type": "code",
   "execution_count": 23,
   "id": "34da976e",
   "metadata": {},
   "outputs": [
    {
     "name": "stdout",
     "output_type": "stream",
     "text": [
      "0.4\n"
     ]
    }
   ],
   "source": [
    "print(0.2+0.2)"
   ]
  },
  {
   "cell_type": "code",
   "execution_count": 24,
   "id": "eba5fab5",
   "metadata": {},
   "outputs": [
    {
     "name": "stdout",
     "output_type": "stream",
     "text": [
      "2.4\n"
     ]
    }
   ],
   "source": [
    "print(2+0.4) # integers and floats are added the answer comes out to be float number"
   ]
  },
  {
   "cell_type": "code",
   "execution_count": 25,
   "id": "4402dc96",
   "metadata": {},
   "outputs": [
    {
     "name": "stdout",
     "output_type": "stream",
     "text": [
      "42.0\n"
     ]
    }
   ],
   "source": [
    "print(20+22.00)"
   ]
  },
  {
   "cell_type": "code",
   "execution_count": 26,
   "id": "adf03143",
   "metadata": {},
   "outputs": [],
   "source": [
    "# classical division is / "
   ]
  },
  {
   "cell_type": "code",
   "execution_count": 31,
   "id": "4e9de9c9",
   "metadata": {},
   "outputs": [
    {
     "name": "stdout",
     "output_type": "stream",
     "text": [
      "1.5\n"
     ]
    }
   ],
   "source": [
    "print(3/2) # classical division of two intergers always gives answer in float"
   ]
  },
  {
   "cell_type": "code",
   "execution_count": 30,
   "id": "ae678bbf",
   "metadata": {},
   "outputs": [],
   "source": [
    "# floor division is //"
   ]
  },
  {
   "cell_type": "code",
   "execution_count": 32,
   "id": "903e4e1b",
   "metadata": {},
   "outputs": [
    {
     "name": "stdout",
     "output_type": "stream",
     "text": [
      "1\n"
     ]
    }
   ],
   "source": [
    "print(3//2)"
   ]
  },
  {
   "cell_type": "code",
   "execution_count": 37,
   "id": "3524cf8a",
   "metadata": {},
   "outputs": [
    {
     "name": "stdout",
     "output_type": "stream",
     "text": [
      "5\n"
     ]
    }
   ],
   "source": [
    "print(17//3) # rounds off to nearest smaller number"
   ]
  },
  {
   "cell_type": "code",
   "execution_count": 46,
   "id": "b315fe8d",
   "metadata": {},
   "outputs": [
    {
     "name": "stdout",
     "output_type": "stream",
     "text": [
      "5\n"
     ]
    }
   ],
   "source": [
    "print(45//8)"
   ]
  },
  {
   "cell_type": "code",
   "execution_count": 47,
   "id": "4a40df69",
   "metadata": {},
   "outputs": [],
   "source": [
    "# classical division 4.9 then what would be in floor division 4"
   ]
  },
  {
   "cell_type": "code",
   "execution_count": 48,
   "id": "ee1ac728",
   "metadata": {},
   "outputs": [
    {
     "name": "stdout",
     "output_type": "stream",
     "text": [
      "1.75\n"
     ]
    }
   ],
   "source": [
    "print(7/4)"
   ]
  },
  {
   "cell_type": "code",
   "execution_count": 49,
   "id": "cc4cf664",
   "metadata": {},
   "outputs": [
    {
     "name": "stdout",
     "output_type": "stream",
     "text": [
      "1\n"
     ]
    }
   ],
   "source": [
    "print(7//4)"
   ]
  },
  {
   "cell_type": "code",
   "execution_count": 50,
   "id": "76299b2d",
   "metadata": {},
   "outputs": [],
   "source": [
    "# % is called as modulo and it gives us the remainder"
   ]
  },
  {
   "cell_type": "code",
   "execution_count": 51,
   "id": "6690e592",
   "metadata": {},
   "outputs": [],
   "source": [
    "# if we divide 5 by 2\n",
    "#if we divide 49 by 5"
   ]
  },
  {
   "cell_type": "code",
   "execution_count": 52,
   "id": "cdffbefc",
   "metadata": {},
   "outputs": [
    {
     "name": "stdout",
     "output_type": "stream",
     "text": [
      "1\n"
     ]
    }
   ],
   "source": [
    "print(5%2)"
   ]
  },
  {
   "cell_type": "code",
   "execution_count": 53,
   "id": "4cab406a",
   "metadata": {},
   "outputs": [
    {
     "name": "stdout",
     "output_type": "stream",
     "text": [
      "4\n"
     ]
    }
   ],
   "source": [
    "print(49%5)"
   ]
  },
  {
   "cell_type": "code",
   "execution_count": 56,
   "id": "c08b422a",
   "metadata": {},
   "outputs": [],
   "source": [
    "# BODMAS - BRACKET OPEN DIVISION MULTIPLICATION ADDITION SUBTRACTION\n",
    "# python follows bodmas principle"
   ]
  },
  {
   "cell_type": "code",
   "execution_count": 55,
   "id": "6ff717ef",
   "metadata": {},
   "outputs": [
    {
     "name": "stdout",
     "output_type": "stream",
     "text": [
      "-31.0\n"
     ]
    }
   ],
   "source": [
    "print((2+3)-9*8/2)\n",
    "# 5 - 9*8/2\n",
    "# 5 - 9*4\n",
    "#5 - 36\n",
    "#-31"
   ]
  },
  {
   "cell_type": "code",
   "execution_count": 57,
   "id": "01bb8bca",
   "metadata": {},
   "outputs": [],
   "source": [
    "#2^3 = 2*2*2 = 8\n",
    "#3^3 = 3*3*3 = 27"
   ]
  },
  {
   "cell_type": "code",
   "execution_count": 58,
   "id": "4ce0fb17",
   "metadata": {},
   "outputs": [],
   "source": [
    "# for powers in python we use **"
   ]
  },
  {
   "cell_type": "code",
   "execution_count": 59,
   "id": "ebfdf4a3",
   "metadata": {},
   "outputs": [
    {
     "name": "stdout",
     "output_type": "stream",
     "text": [
      "4\n"
     ]
    }
   ],
   "source": [
    "print(2**2)"
   ]
  },
  {
   "cell_type": "code",
   "execution_count": 60,
   "id": "8edf1e6e",
   "metadata": {},
   "outputs": [
    {
     "name": "stdout",
     "output_type": "stream",
     "text": [
      "8\n"
     ]
    }
   ],
   "source": [
    "print(2**3)"
   ]
  },
  {
   "cell_type": "code",
   "execution_count": 61,
   "id": "b6510029",
   "metadata": {},
   "outputs": [
    {
     "name": "stdout",
     "output_type": "stream",
     "text": [
      "262144\n"
     ]
    }
   ],
   "source": [
    "print(2**18)"
   ]
  },
  {
   "cell_type": "code",
   "execution_count": 62,
   "id": "39daec8a",
   "metadata": {},
   "outputs": [],
   "source": [
    "# root sqroot 4 = 2\n",
    "# cuberoot 27 = 3"
   ]
  },
  {
   "cell_type": "code",
   "execution_count": 63,
   "id": "01e56690",
   "metadata": {},
   "outputs": [
    {
     "name": "stdout",
     "output_type": "stream",
     "text": [
      "2.0\n"
     ]
    }
   ],
   "source": [
    "print(4**0.5)"
   ]
  },
  {
   "cell_type": "code",
   "execution_count": 64,
   "id": "a0a26554",
   "metadata": {},
   "outputs": [
    {
     "name": "stdout",
     "output_type": "stream",
     "text": [
      "7.0\n"
     ]
    }
   ],
   "source": [
    "print(49**0.5)"
   ]
  },
  {
   "cell_type": "code",
   "execution_count": 65,
   "id": "60bfd954",
   "metadata": {},
   "outputs": [],
   "source": [
    "a  ='sarvessh'"
   ]
  },
  {
   "cell_type": "code",
   "execution_count": 66,
   "id": "7923be91",
   "metadata": {},
   "outputs": [
    {
     "name": "stdout",
     "output_type": "stream",
     "text": [
      "sarvessh\n"
     ]
    }
   ],
   "source": [
    "print(a\n",
    "     )"
   ]
  },
  {
   "cell_type": "code",
   "execution_count": 67,
   "id": "20059577",
   "metadata": {},
   "outputs": [
    {
     "name": "stdout",
     "output_type": "stream",
     "text": [
      "sarvesshsarvessh\n"
     ]
    }
   ],
   "source": [
    "print(a+a)"
   ]
  },
  {
   "cell_type": "code",
   "execution_count": 70,
   "id": "d2128a1c",
   "metadata": {},
   "outputs": [],
   "source": [
    "ssjskjndkjandajdnajkls = 'saravessh'"
   ]
  },
  {
   "cell_type": "code",
   "execution_count": 71,
   "id": "e0d417c6",
   "metadata": {},
   "outputs": [
    {
     "name": "stdout",
     "output_type": "stream",
     "text": [
      "saravessh\n"
     ]
    }
   ],
   "source": [
    "print(ssjskjndkjandajdnajkls)"
   ]
  },
  {
   "cell_type": "code",
   "execution_count": 72,
   "id": "d5a29f95",
   "metadata": {},
   "outputs": [],
   "source": [
    "a = 8"
   ]
  },
  {
   "cell_type": "code",
   "execution_count": 73,
   "id": "7f9b1c05",
   "metadata": {},
   "outputs": [
    {
     "name": "stdout",
     "output_type": "stream",
     "text": [
      "8\n"
     ]
    }
   ],
   "source": [
    "print(a)"
   ]
  },
  {
   "cell_type": "code",
   "execution_count": 74,
   "id": "8df8532b",
   "metadata": {},
   "outputs": [],
   "source": [
    "a  ='hello'"
   ]
  },
  {
   "cell_type": "code",
   "execution_count": 75,
   "id": "d97ff0d8",
   "metadata": {},
   "outputs": [
    {
     "name": "stdout",
     "output_type": "stream",
     "text": [
      "hello\n"
     ]
    }
   ],
   "source": [
    "print(a)"
   ]
  },
  {
   "cell_type": "code",
   "execution_count": 77,
   "id": "9675900c",
   "metadata": {},
   "outputs": [],
   "source": [
    "a = '3hello' # '' \"\""
   ]
  },
  {
   "cell_type": "code",
   "execution_count": 78,
   "id": "a7da7bf4",
   "metadata": {},
   "outputs": [
    {
     "name": "stdout",
     "output_type": "stream",
     "text": [
      "3hello\n"
     ]
    }
   ],
   "source": [
    "print(a)"
   ]
  },
  {
   "cell_type": "code",
   "execution_count": 81,
   "id": "9b229f0d",
   "metadata": {},
   "outputs": [],
   "source": [
    "# list str int"
   ]
  },
  {
   "cell_type": "code",
   "execution_count": 80,
   "id": "ca74e528",
   "metadata": {},
   "outputs": [],
   "source": []
  },
  {
   "cell_type": "code",
   "execution_count": null,
   "id": "81a02d87",
   "metadata": {},
   "outputs": [],
   "source": []
  }
 ],
 "metadata": {
  "kernelspec": {
   "display_name": "Python 3 (ipykernel)",
   "language": "python",
   "name": "python3"
  },
  "language_info": {
   "codemirror_mode": {
    "name": "ipython",
    "version": 3
   },
   "file_extension": ".py",
   "mimetype": "text/x-python",
   "name": "python",
   "nbconvert_exporter": "python",
   "pygments_lexer": "ipython3",
   "version": "3.9.7"
  }
 },
 "nbformat": 4,
 "nbformat_minor": 5
}
