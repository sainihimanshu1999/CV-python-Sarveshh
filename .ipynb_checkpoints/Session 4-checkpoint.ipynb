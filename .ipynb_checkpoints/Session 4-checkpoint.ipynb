{
 "cells": [
  {
   "cell_type": "code",
   "execution_count": 1,
   "id": "f7b85a58",
   "metadata": {},
   "outputs": [],
   "source": [
    "# LISTS AND DICTIONARIES"
   ]
  },
  {
   "cell_type": "code",
   "execution_count": 2,
   "id": "464538cf",
   "metadata": {},
   "outputs": [],
   "source": [
    "#List and dictioinaries are like the storage containers"
   ]
  },
  {
   "cell_type": "code",
   "execution_count": 3,
   "id": "9c02461b",
   "metadata": {},
   "outputs": [],
   "source": [
    "# sequence in strings\n"
   ]
  },
  {
   "cell_type": "code",
   "execution_count": 4,
   "id": "19c47cd5",
   "metadata": {},
   "outputs": [],
   "source": [
    "e = 'Meow'"
   ]
  },
  {
   "cell_type": "code",
   "execution_count": 5,
   "id": "b136919e",
   "metadata": {},
   "outputs": [
    {
     "name": "stdout",
     "output_type": "stream",
     "text": [
      "Meow\n"
     ]
    }
   ],
   "source": [
    "print(e)"
   ]
  },
  {
   "cell_type": "code",
   "execution_count": 6,
   "id": "523dd9ab",
   "metadata": {},
   "outputs": [
    {
     "name": "stdout",
     "output_type": "stream",
     "text": [
      "M\n"
     ]
    }
   ],
   "source": [
    "print(e[0])"
   ]
  },
  {
   "cell_type": "code",
   "execution_count": 7,
   "id": "07e9c325",
   "metadata": {},
   "outputs": [],
   "source": [
    "# creating a new list"
   ]
  },
  {
   "cell_type": "code",
   "execution_count": 8,
   "id": "e4bedf01",
   "metadata": {},
   "outputs": [],
   "source": [
    "a = [1,2,3,4,5,6]\n",
    "\n",
    "# 1 - 0 2- 1 3- 2 4 -3 ..."
   ]
  },
  {
   "cell_type": "code",
   "execution_count": 9,
   "id": "19f3ad98",
   "metadata": {},
   "outputs": [
    {
     "name": "stdout",
     "output_type": "stream",
     "text": [
      "[1, 2, 3, 4, 5, 6]\n"
     ]
    }
   ],
   "source": [
    "print(a)"
   ]
  },
  {
   "cell_type": "code",
   "execution_count": 10,
   "id": "bd60821f",
   "metadata": {},
   "outputs": [
    {
     "name": "stdout",
     "output_type": "stream",
     "text": [
      "1\n"
     ]
    }
   ],
   "source": [
    "print(a[0])"
   ]
  },
  {
   "cell_type": "code",
   "execution_count": 11,
   "id": "5d6aaf11",
   "metadata": {},
   "outputs": [
    {
     "name": "stdout",
     "output_type": "stream",
     "text": [
      "4\n"
     ]
    }
   ],
   "source": [
    "print(a[3])"
   ]
  },
  {
   "cell_type": "code",
   "execution_count": 21,
   "id": "242e32fb",
   "metadata": {},
   "outputs": [],
   "source": [
    "#list can hold different types of objects\n",
    "d = ['sarvessh','himanshu',1,2,3,4,'cats','mimi']"
   ]
  },
  {
   "cell_type": "code",
   "execution_count": 26,
   "id": "8fa8e2e1",
   "metadata": {},
   "outputs": [
    {
     "name": "stdout",
     "output_type": "stream",
     "text": [
      "2\n"
     ]
    }
   ],
   "source": [
    "# indexing\n",
    "print(d[3])"
   ]
  },
  {
   "cell_type": "code",
   "execution_count": 18,
   "id": "98a80f77",
   "metadata": {},
   "outputs": [
    {
     "name": "stdout",
     "output_type": "stream",
     "text": [
      "n\n"
     ]
    }
   ],
   "source": [
    "print(d[1][4])\n",
    "# d[1] - himanshu d[1][1] - himanshu - 1 - i"
   ]
  },
  {
   "cell_type": "code",
   "execution_count": 20,
   "id": "3d58f3dd",
   "metadata": {},
   "outputs": [
    {
     "name": "stdout",
     "output_type": "stream",
     "text": [
      "1\n"
     ]
    }
   ],
   "source": [
    "print(d[2])"
   ]
  },
  {
   "cell_type": "code",
   "execution_count": 22,
   "id": "e8942545",
   "metadata": {},
   "outputs": [],
   "source": [
    "q = 'sarveshh'"
   ]
  },
  {
   "cell_type": "code",
   "execution_count": 23,
   "id": "a65aff47",
   "metadata": {},
   "outputs": [
    {
     "name": "stdout",
     "output_type": "stream",
     "text": [
      "8\n"
     ]
    }
   ],
   "source": [
    "# len function just gives the lenght of the element\n",
    "print(len(q))"
   ]
  },
  {
   "cell_type": "code",
   "execution_count": 25,
   "id": "b3051cc4",
   "metadata": {},
   "outputs": [
    {
     "name": "stdout",
     "output_type": "stream",
     "text": [
      "8\n"
     ]
    }
   ],
   "source": [
    "print(len(d))"
   ]
  },
  {
   "cell_type": "code",
   "execution_count": 27,
   "id": "27ecab1d",
   "metadata": {},
   "outputs": [
    {
     "name": "stdout",
     "output_type": "stream",
     "text": [
      "['sarvessh', 'himanshu', 1, 2, 3, 4, 'cats', 'mimi']\n"
     ]
    }
   ],
   "source": [
    "print(d)"
   ]
  },
  {
   "cell_type": "code",
   "execution_count": 28,
   "id": "a999cec1",
   "metadata": {},
   "outputs": [
    {
     "name": "stdout",
     "output_type": "stream",
     "text": [
      "sarveshh\n"
     ]
    }
   ],
   "source": [
    "print(q)"
   ]
  },
  {
   "cell_type": "code",
   "execution_count": 30,
   "id": "b98a4130",
   "metadata": {},
   "outputs": [
    {
     "name": "stdout",
     "output_type": "stream",
     "text": [
      "sar\n"
     ]
    }
   ],
   "source": [
    "#[start:upto this number]\n",
    "print(q[:3])"
   ]
  },
  {
   "cell_type": "code",
   "execution_count": 31,
   "id": "cfd3b5bd",
   "metadata": {},
   "outputs": [
    {
     "name": "stdout",
     "output_type": "stream",
     "text": [
      "eshh\n"
     ]
    }
   ],
   "source": [
    "print(q[4:])"
   ]
  },
  {
   "cell_type": "code",
   "execution_count": 34,
   "id": "92be0e58",
   "metadata": {},
   "outputs": [],
   "source": [
    "e = 'caterpillar'\n",
    "# c- 0 a- 1 t-2 e-3 r -4 p- 5 i-6 l-7 l-8 a-9 r 10"
   ]
  },
  {
   "cell_type": "code",
   "execution_count": 35,
   "id": "cf7d6333",
   "metadata": {},
   "outputs": [
    {
     "name": "stdout",
     "output_type": "stream",
     "text": [
      "erpillar\n"
     ]
    }
   ],
   "source": [
    "# slicing code\n",
    "#[start:ending not inlcuded]\n",
    "\n",
    "print(e[3:])"
   ]
  },
  {
   "cell_type": "code",
   "execution_count": 36,
   "id": "2db4fbe0",
   "metadata": {},
   "outputs": [
    {
     "name": "stdout",
     "output_type": "stream",
     "text": [
      "pillar\n"
     ]
    }
   ],
   "source": [
    "print(e[5:])"
   ]
  },
  {
   "cell_type": "code",
   "execution_count": 37,
   "id": "472858d4",
   "metadata": {},
   "outputs": [
    {
     "name": "stdout",
     "output_type": "stream",
     "text": [
      "caterpi\n"
     ]
    }
   ],
   "source": [
    "print(e[:7])"
   ]
  },
  {
   "cell_type": "code",
   "execution_count": 38,
   "id": "9b562bd5",
   "metadata": {},
   "outputs": [],
   "source": [
    "f = 'icecream'"
   ]
  },
  {
   "cell_type": "code",
   "execution_count": 39,
   "id": "d2fca16d",
   "metadata": {},
   "outputs": [
    {
     "name": "stdout",
     "output_type": "stream",
     "text": [
      "cecream\n"
     ]
    }
   ],
   "source": [
    "print(f[1:])"
   ]
  },
  {
   "cell_type": "code",
   "execution_count": 40,
   "id": "e9e7f759",
   "metadata": {},
   "outputs": [
    {
     "name": "stdout",
     "output_type": "stream",
     "text": [
      "cream\n"
     ]
    }
   ],
   "source": [
    "print(f[3:])"
   ]
  },
  {
   "cell_type": "code",
   "execution_count": 41,
   "id": "838f6229",
   "metadata": {},
   "outputs": [
    {
     "name": "stdout",
     "output_type": "stream",
     "text": [
      "icecr\n"
     ]
    }
   ],
   "source": [
    "print(f[:5])"
   ]
  },
  {
   "cell_type": "code",
   "execution_count": 42,
   "id": "34c56e0b",
   "metadata": {},
   "outputs": [
    {
     "name": "stdout",
     "output_type": "stream",
     "text": [
      "ice\n"
     ]
    }
   ],
   "source": [
    "print(f[:3])"
   ]
  },
  {
   "cell_type": "code",
   "execution_count": 43,
   "id": "d2429e78",
   "metadata": {},
   "outputs": [
    {
     "name": "stdout",
     "output_type": "stream",
     "text": [
      "cecr\n"
     ]
    }
   ],
   "source": [
    "print(f[1:5])"
   ]
  },
  {
   "cell_type": "code",
   "execution_count": 44,
   "id": "8f83be09",
   "metadata": {},
   "outputs": [
    {
     "name": "stdout",
     "output_type": "stream",
     "text": [
      "ecre\n"
     ]
    }
   ],
   "source": [
    "print(f[2:6])"
   ]
  },
  {
   "cell_type": "code",
   "execution_count": 45,
   "id": "106a98a8",
   "metadata": {},
   "outputs": [
    {
     "name": "stdout",
     "output_type": "stream",
     "text": [
      "['sarvessh', 'himanshu', 1, 2, 3, 4, 'cats', 'mimi']\n"
     ]
    }
   ],
   "source": [
    "print(d)"
   ]
  },
  {
   "cell_type": "code",
   "execution_count": 46,
   "id": "b66e5bf6",
   "metadata": {},
   "outputs": [
    {
     "name": "stdout",
     "output_type": "stream",
     "text": [
      "['himanshu', 1, 2, 3, 4, 'cats', 'mimi']\n"
     ]
    }
   ],
   "source": [
    "print(d[1:])"
   ]
  },
  {
   "cell_type": "code",
   "execution_count": 47,
   "id": "2695769c",
   "metadata": {},
   "outputs": [
    {
     "name": "stdout",
     "output_type": "stream",
     "text": [
      "[2, 3, 4, 'cats', 'mimi']\n"
     ]
    }
   ],
   "source": [
    "print(d[3:])"
   ]
  },
  {
   "cell_type": "code",
   "execution_count": 48,
   "id": "b02c98a2",
   "metadata": {},
   "outputs": [
    {
     "name": "stdout",
     "output_type": "stream",
     "text": [
      "['sarvessh', 'himanshu', 1, 2]\n"
     ]
    }
   ],
   "source": [
    "print(d[:4])"
   ]
  },
  {
   "cell_type": "code",
   "execution_count": 49,
   "id": "b16e81fa",
   "metadata": {},
   "outputs": [
    {
     "name": "stdout",
     "output_type": "stream",
     "text": [
      "[1, 2, 3, 4]\n"
     ]
    }
   ],
   "source": [
    "print(d[2:6])"
   ]
  },
  {
   "cell_type": "code",
   "execution_count": 50,
   "id": "c3e90f86",
   "metadata": {},
   "outputs": [
    {
     "name": "stdout",
     "output_type": "stream",
     "text": [
      "['mimi', 'cats', 4, 3, 2, 1, 'himanshu', 'sarvessh']\n"
     ]
    }
   ],
   "source": [
    "print(d[::-1])"
   ]
  },
  {
   "cell_type": "code",
   "execution_count": 51,
   "id": "e8bb3935",
   "metadata": {},
   "outputs": [
    {
     "data": {
      "text/plain": [
       "['sarvessh', 'himanshu', 1, 2, 3, 4, 'cats', 'mimi', 'new item', 1]"
      ]
     },
     "execution_count": 51,
     "metadata": {},
     "output_type": "execute_result"
    }
   ],
   "source": [
    "d+['new item',1]"
   ]
  },
  {
   "cell_type": "code",
   "execution_count": 52,
   "id": "596b1344",
   "metadata": {},
   "outputs": [],
   "source": [
    "# append method - adds the element at the end of the list\n",
    "#pop  method - removes the element from the list"
   ]
  },
  {
   "cell_type": "code",
   "execution_count": 53,
   "id": "fca74b79",
   "metadata": {},
   "outputs": [],
   "source": [
    "d.append('icecream')"
   ]
  },
  {
   "cell_type": "code",
   "execution_count": 54,
   "id": "3485c7a9",
   "metadata": {},
   "outputs": [
    {
     "name": "stdout",
     "output_type": "stream",
     "text": [
      "['sarvessh', 'himanshu', 1, 2, 3, 4, 'cats', 'mimi', 'icecream']\n"
     ]
    }
   ],
   "source": [
    "print(d)"
   ]
  },
  {
   "cell_type": "code",
   "execution_count": 55,
   "id": "3029cdcc",
   "metadata": {},
   "outputs": [],
   "source": [
    "d.append('plantsvszombies')"
   ]
  },
  {
   "cell_type": "code",
   "execution_count": 56,
   "id": "29087e7e",
   "metadata": {},
   "outputs": [
    {
     "name": "stdout",
     "output_type": "stream",
     "text": [
      "['sarvessh', 'himanshu', 1, 2, 3, 4, 'cats', 'mimi', 'icecream', 'plantsvszombies']\n"
     ]
    }
   ],
   "source": [
    "print(d)"
   ]
  },
  {
   "cell_type": "code",
   "execution_count": 57,
   "id": "4fae28eb",
   "metadata": {},
   "outputs": [
    {
     "data": {
      "text/plain": [
       "'plantsvszombies'"
      ]
     },
     "execution_count": 57,
     "metadata": {},
     "output_type": "execute_result"
    }
   ],
   "source": [
    "d.pop()"
   ]
  },
  {
   "cell_type": "code",
   "execution_count": 58,
   "id": "dc10c43a",
   "metadata": {},
   "outputs": [
    {
     "name": "stdout",
     "output_type": "stream",
     "text": [
      "['sarvessh', 'himanshu', 1, 2, 3, 4, 'cats', 'mimi', 'icecream']\n"
     ]
    }
   ],
   "source": [
    "print(d)"
   ]
  },
  {
   "cell_type": "code",
   "execution_count": 59,
   "id": "bac7b7c2",
   "metadata": {},
   "outputs": [
    {
     "data": {
      "text/plain": [
       "1"
      ]
     },
     "execution_count": 59,
     "metadata": {},
     "output_type": "execute_result"
    }
   ],
   "source": [
    "d.pop(2)"
   ]
  },
  {
   "cell_type": "code",
   "execution_count": 60,
   "id": "6de2f0d4",
   "metadata": {},
   "outputs": [
    {
     "name": "stdout",
     "output_type": "stream",
     "text": [
      "['sarvessh', 'himanshu', 2, 3, 4, 'cats', 'mimi', 'icecream']\n"
     ]
    }
   ],
   "source": [
    "print(d)"
   ]
  },
  {
   "cell_type": "code",
   "execution_count": 61,
   "id": "510078b8",
   "metadata": {},
   "outputs": [],
   "source": [
    "# sort method - just arranges your list in the ascending order\n",
    "# reverse method - just reverses your list"
   ]
  },
  {
   "cell_type": "code",
   "execution_count": 62,
   "id": "12b29808",
   "metadata": {},
   "outputs": [],
   "source": [
    "a  =[ 99,78,123,98324,712312,65,8,9,10,24387298,7812,14455]"
   ]
  },
  {
   "cell_type": "code",
   "execution_count": 63,
   "id": "4fe1cea8",
   "metadata": {},
   "outputs": [],
   "source": [
    "a.sort()"
   ]
  },
  {
   "cell_type": "code",
   "execution_count": 64,
   "id": "05bf8ab2",
   "metadata": {},
   "outputs": [
    {
     "name": "stdout",
     "output_type": "stream",
     "text": [
      "[8, 9, 10, 65, 78, 99, 123, 7812, 14455, 98324, 712312, 24387298]\n"
     ]
    }
   ],
   "source": [
    "print(a)"
   ]
  },
  {
   "cell_type": "code",
   "execution_count": 65,
   "id": "32393372",
   "metadata": {},
   "outputs": [],
   "source": [
    "a.reverse()"
   ]
  },
  {
   "cell_type": "code",
   "execution_count": 66,
   "id": "17dfaaf6",
   "metadata": {},
   "outputs": [
    {
     "name": "stdout",
     "output_type": "stream",
     "text": [
      "[24387298, 712312, 98324, 14455, 7812, 123, 99, 78, 65, 10, 9, 8]\n"
     ]
    }
   ],
   "source": [
    "print(a)"
   ]
  },
  {
   "cell_type": "code",
   "execution_count": 67,
   "id": "7e11b502",
   "metadata": {},
   "outputs": [
    {
     "name": "stdout",
     "output_type": "stream",
     "text": [
      "['sarvessh', 'himanshu', 2, 3, 4, 'cats', 'mimi', 'icecream']\n"
     ]
    }
   ],
   "source": [
    "print(d)"
   ]
  },
  {
   "cell_type": "code",
   "execution_count": 68,
   "id": "a001d06c",
   "metadata": {},
   "outputs": [
    {
     "name": "stdout",
     "output_type": "stream",
     "text": [
      "[24387298, 712312, 98324, 14455, 7812, 123, 99, 78, 65, 10, 9, 8]\n"
     ]
    }
   ],
   "source": [
    "print(a)"
   ]
  },
  {
   "cell_type": "code",
   "execution_count": 71,
   "id": "ebc8d0b1",
   "metadata": {},
   "outputs": [],
   "source": [
    "# NESTING lists\n",
    "c = [d,a]"
   ]
  },
  {
   "cell_type": "code",
   "execution_count": 72,
   "id": "3cf3e3c8",
   "metadata": {},
   "outputs": [
    {
     "name": "stdout",
     "output_type": "stream",
     "text": [
      "[['sarvessh', 'himanshu', 2, 3, 4, 'cats', 'mimi', 'icecream'], [24387298, 712312, 98324, 14455, 7812, 123, 99, 78, 65, 10, 9, 8]]\n"
     ]
    }
   ],
   "source": [
    "print(c)"
   ]
  },
  {
   "cell_type": "code",
   "execution_count": 73,
   "id": "8fd250c4",
   "metadata": {},
   "outputs": [],
   "source": [
    "# dictionary = {key:value,key:value}"
   ]
  },
  {
   "cell_type": "code",
   "execution_count": 74,
   "id": "d1e15c1b",
   "metadata": {},
   "outputs": [],
   "source": [
    "d = {'sarvessh':12,'himanshu':22,'kunal':13,'albert':89}"
   ]
  },
  {
   "cell_type": "code",
   "execution_count": 75,
   "id": "4fd079af",
   "metadata": {},
   "outputs": [
    {
     "name": "stdout",
     "output_type": "stream",
     "text": [
      "12\n"
     ]
    }
   ],
   "source": [
    "print(d['sarvessh'])"
   ]
  },
  {
   "cell_type": "code",
   "execution_count": 76,
   "id": "73ea0fdf",
   "metadata": {},
   "outputs": [
    {
     "name": "stdout",
     "output_type": "stream",
     "text": [
      "89\n"
     ]
    }
   ],
   "source": [
    "print(d['albert'])"
   ]
  },
  {
   "cell_type": "code",
   "execution_count": 77,
   "id": "36cf86a7",
   "metadata": {},
   "outputs": [],
   "source": [
    "d = {1:2,3:'himanshu',4:89}"
   ]
  },
  {
   "cell_type": "code",
   "execution_count": 78,
   "id": "9249f756",
   "metadata": {},
   "outputs": [
    {
     "name": "stdout",
     "output_type": "stream",
     "text": [
      "2\n"
     ]
    }
   ],
   "source": [
    "print(d[1])"
   ]
  },
  {
   "cell_type": "code",
   "execution_count": 81,
   "id": "1a955a87",
   "metadata": {},
   "outputs": [
    {
     "name": "stdout",
     "output_type": "stream",
     "text": [
      "a\n"
     ]
    }
   ],
   "source": [
    "print(d[3][3])"
   ]
  },
  {
   "cell_type": "code",
   "execution_count": 82,
   "id": "47929c2e",
   "metadata": {},
   "outputs": [
    {
     "name": "stdout",
     "output_type": "stream",
     "text": [
      "dict_keys([1, 3, 4])\n"
     ]
    }
   ],
   "source": [
    "print(d.keys())"
   ]
  },
  {
   "cell_type": "code",
   "execution_count": 83,
   "id": "3f257409",
   "metadata": {},
   "outputs": [
    {
     "name": "stdout",
     "output_type": "stream",
     "text": [
      "dict_values([2, 'himanshu', 89])\n"
     ]
    }
   ],
   "source": [
    "print(d.values())"
   ]
  },
  {
   "cell_type": "code",
   "execution_count": null,
   "id": "b5fabf45",
   "metadata": {},
   "outputs": [],
   "source": []
  }
 ],
 "metadata": {
  "kernelspec": {
   "display_name": "Python 3 (ipykernel)",
   "language": "python",
   "name": "python3"
  },
  "language_info": {
   "codemirror_mode": {
    "name": "ipython",
    "version": 3
   },
   "file_extension": ".py",
   "mimetype": "text/x-python",
   "name": "python",
   "nbconvert_exporter": "python",
   "pygments_lexer": "ipython3",
   "version": "3.9.7"
  }
 },
 "nbformat": 4,
 "nbformat_minor": 5
}
