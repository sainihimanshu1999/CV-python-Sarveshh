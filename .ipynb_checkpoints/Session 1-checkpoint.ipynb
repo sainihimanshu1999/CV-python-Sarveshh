{
 "cells": [
  {
   "cell_type": "markdown",
   "id": "a41daf55",
   "metadata": {},
   "source": [
    "# SESSION ONE FOR SARVESHH"
   ]
  },
  {
   "cell_type": "code",
   "execution_count": 4,
   "id": "6e3621c6",
   "metadata": {},
   "outputs": [],
   "source": [
    "#This is youur session one,"
   ]
  },
  {
   "cell_type": "code",
   "execution_count": 5,
   "id": "dcd8bb09",
   "metadata": {},
   "outputs": [],
   "source": [
    "# we hae installed python"
   ]
  },
  {
   "cell_type": "code",
   "execution_count": 6,
   "id": "238ba1ea",
   "metadata": {},
   "outputs": [],
   "source": [
    "#we have jupyter"
   ]
  },
  {
   "cell_type": "code",
   "execution_count": null,
   "id": "cc2801dd",
   "metadata": {},
   "outputs": [],
   "source": [
    "# we went through the basics of python language"
   ]
  }
 ],
 "metadata": {
  "kernelspec": {
   "display_name": "Python 3 (ipykernel)",
   "language": "python",
   "name": "python3"
  },
  "language_info": {
   "codemirror_mode": {
    "name": "ipython",
    "version": 3
   },
   "file_extension": ".py",
   "mimetype": "text/x-python",
   "name": "python",
   "nbconvert_exporter": "python",
   "pygments_lexer": "ipython3",
   "version": "3.9.7"
  }
 },
 "nbformat": 4,
 "nbformat_minor": 5
}
