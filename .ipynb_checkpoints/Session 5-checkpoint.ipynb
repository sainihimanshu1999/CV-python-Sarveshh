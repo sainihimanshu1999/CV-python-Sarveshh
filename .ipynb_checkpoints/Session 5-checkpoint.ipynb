{
 "cells": [
  {
   "cell_type": "code",
   "execution_count": 1,
   "id": "06671cb7",
   "metadata": {},
   "outputs": [],
   "source": [
    "#INTRODUCTION TO THE LOGICS"
   ]
  },
  {
   "cell_type": "code",
   "execution_count": 2,
   "id": "b6a80055",
   "metadata": {},
   "outputs": [],
   "source": [
    "#comparison operators"
   ]
  },
  {
   "cell_type": "code",
   "execution_count": 3,
   "id": "3d7653a1",
   "metadata": {},
   "outputs": [],
   "source": [
    "# comparison opertors returns the boolean value \n",
    "#boolean means true or false"
   ]
  },
  {
   "cell_type": "code",
   "execution_count": 4,
   "id": "447d5fd4",
   "metadata": {},
   "outputs": [],
   "source": [
    "# ==  it means comaprision"
   ]
  },
  {
   "cell_type": "code",
   "execution_count": 5,
   "id": "560287b5",
   "metadata": {},
   "outputs": [
    {
     "name": "stdout",
     "output_type": "stream",
     "text": [
      "False\n"
     ]
    }
   ],
   "source": [
    "print(2==3)"
   ]
  },
  {
   "cell_type": "code",
   "execution_count": 6,
   "id": "c664ad8c",
   "metadata": {},
   "outputs": [
    {
     "name": "stdout",
     "output_type": "stream",
     "text": [
      "True\n"
     ]
    }
   ],
   "source": [
    "print(3==3)"
   ]
  },
  {
   "cell_type": "code",
   "execution_count": 8,
   "id": "9594dbb0",
   "metadata": {},
   "outputs": [
    {
     "name": "stdout",
     "output_type": "stream",
     "text": [
      "True\n"
     ]
    }
   ],
   "source": [
    "a = 'Himanshu'\n",
    "b = 'Himanshu'\n",
    "print(a==b)"
   ]
  },
  {
   "cell_type": "code",
   "execution_count": 9,
   "id": "d492e432",
   "metadata": {},
   "outputs": [],
   "source": [
    "# !=  not equal to"
   ]
  },
  {
   "cell_type": "code",
   "execution_count": 10,
   "id": "d281c0ee",
   "metadata": {},
   "outputs": [
    {
     "name": "stdout",
     "output_type": "stream",
     "text": [
      "True\n"
     ]
    }
   ],
   "source": [
    "print( 2 != 3)"
   ]
  },
  {
   "cell_type": "code",
   "execution_count": 11,
   "id": "01198b34",
   "metadata": {},
   "outputs": [
    {
     "name": "stdout",
     "output_type": "stream",
     "text": [
      "False\n"
     ]
    }
   ],
   "source": [
    "print(2!=2)"
   ]
  },
  {
   "cell_type": "code",
   "execution_count": 12,
   "id": "635ef9aa",
   "metadata": {},
   "outputs": [],
   "source": [
    "# > < less than and greater than operators"
   ]
  },
  {
   "cell_type": "code",
   "execution_count": 13,
   "id": "c215faaa",
   "metadata": {},
   "outputs": [
    {
     "name": "stdout",
     "output_type": "stream",
     "text": [
      "True\n"
     ]
    }
   ],
   "source": [
    "print(3>2)"
   ]
  },
  {
   "cell_type": "code",
   "execution_count": 14,
   "id": "29690ba5",
   "metadata": {},
   "outputs": [
    {
     "name": "stdout",
     "output_type": "stream",
     "text": [
      "False\n"
     ]
    }
   ],
   "source": [
    "print(3<2)"
   ]
  },
  {
   "cell_type": "code",
   "execution_count": 15,
   "id": "6a00cebd",
   "metadata": {},
   "outputs": [],
   "source": [
    "# >= <= greater than equal to and less than equal"
   ]
  },
  {
   "cell_type": "code",
   "execution_count": 16,
   "id": "d3e40eac",
   "metadata": {},
   "outputs": [
    {
     "name": "stdout",
     "output_type": "stream",
     "text": [
      "False\n"
     ]
    }
   ],
   "source": [
    "print(3>3)"
   ]
  },
  {
   "cell_type": "code",
   "execution_count": 17,
   "id": "5b3bdafb",
   "metadata": {},
   "outputs": [
    {
     "name": "stdout",
     "output_type": "stream",
     "text": [
      "True\n"
     ]
    }
   ],
   "source": [
    "print(3>=3)"
   ]
  },
  {
   "cell_type": "code",
   "execution_count": 18,
   "id": "78c4dd49",
   "metadata": {},
   "outputs": [],
   "source": [
    "# multiple comaprators\n",
    "# AND  - Both of the conditions needs to be either true or false\n",
    "# OR - any of the condition needs to be true"
   ]
  },
  {
   "cell_type": "code",
   "execution_count": 19,
   "id": "04b6b754",
   "metadata": {},
   "outputs": [
    {
     "name": "stdout",
     "output_type": "stream",
     "text": [
      "True\n"
     ]
    }
   ],
   "source": [
    "print(3>2 and 5>4) # 1st condition is true # 2nd conditiion is true"
   ]
  },
  {
   "cell_type": "code",
   "execution_count": 20,
   "id": "1afb01f7",
   "metadata": {},
   "outputs": [
    {
     "name": "stdout",
     "output_type": "stream",
     "text": [
      "False\n"
     ]
    }
   ],
   "source": [
    "print(2>3 and 5>4) # 1st condition is false # 2nd is stilll True"
   ]
  },
  {
   "cell_type": "code",
   "execution_count": 22,
   "id": "6ed3e599",
   "metadata": {},
   "outputs": [
    {
     "name": "stdout",
     "output_type": "stream",
     "text": [
      "True\n"
     ]
    }
   ],
   "source": [
    "print(3>2 or 1>2)"
   ]
  },
  {
   "cell_type": "code",
   "execution_count": 23,
   "id": "e8ebff1f",
   "metadata": {},
   "outputs": [
    {
     "name": "stdout",
     "output_type": "stream",
     "text": [
      "False\n"
     ]
    }
   ],
   "source": [
    "print(3<2 or 8<5)"
   ]
  },
  {
   "cell_type": "code",
   "execution_count": 28,
   "id": "fa8140d9",
   "metadata": {},
   "outputs": [
    {
     "name": "stdout",
     "output_type": "stream",
     "text": [
      "True\n"
     ]
    }
   ],
   "source": [
    "print(11==34 or 14!=15)"
   ]
  },
  {
   "cell_type": "code",
   "execution_count": 30,
   "id": "cdd2ffc2",
   "metadata": {},
   "outputs": [],
   "source": [
    "# statements in pyhton are executable \n",
    "# indenttation- space inside the statement to reognise we are excuting the code which is inside this statement"
   ]
  },
  {
   "cell_type": "code",
   "execution_count": 32,
   "id": "0f7cb915",
   "metadata": {},
   "outputs": [
    {
     "name": "stdout",
     "output_type": "stream",
     "text": [
      "Hello i am outside the statement\n"
     ]
    }
   ],
   "source": [
    "if 3>4:\n",
    "    print('Hello i am inside if statement')\n",
    "    \n",
    "print('Hello i am outside the statement')"
   ]
  },
  {
   "cell_type": "code",
   "execution_count": 33,
   "id": "045a55dd",
   "metadata": {},
   "outputs": [],
   "source": [
    "# if \n",
    "# else\n",
    "# elif\n"
   ]
  },
  {
   "cell_type": "code",
   "execution_count": 35,
   "id": "5779416f",
   "metadata": {
    "scrolled": true
   },
   "outputs": [
    {
     "name": "stdout",
     "output_type": "stream",
     "text": [
      "Hello i am in ELSE statement\n"
     ]
    }
   ],
   "source": [
    "a = 67\n",
    "b = 4\n",
    "\n",
    "if a<b:\n",
    "    print('Hello i am in IF statement')\n",
    "    \n",
    "else:\n",
    "    print('Hello i am in ELSE statement')"
   ]
  },
  {
   "cell_type": "code",
   "execution_count": 40,
   "id": "7acfc9c2",
   "metadata": {},
   "outputs": [
    {
     "name": "stdout",
     "output_type": "stream",
     "text": [
      "hello i am in second elif\n"
     ]
    }
   ],
   "source": [
    "a  =999\n",
    "b = 981\n",
    "\n",
    "if a<b:\n",
    "    print('hello i am in IF statements')\n",
    "    \n",
    "elif a == b:\n",
    "    print('hello i am in elif statement')\n",
    "    \n",
    "elif a%3==0:\n",
    "    print('hello i am in second elif')\n",
    "    \n",
    "else:\n",
    "    print('hello i am in else statement')"
   ]
  },
  {
   "cell_type": "code",
   "execution_count": null,
   "id": "0ab248f8",
   "metadata": {},
   "outputs": [],
   "source": []
  },
  {
   "cell_type": "code",
   "execution_count": null,
   "id": "7ed1a745",
   "metadata": {},
   "outputs": [],
   "source": []
  }
 ],
 "metadata": {
  "kernelspec": {
   "display_name": "Python 3 (ipykernel)",
   "language": "python",
   "name": "python3"
  },
  "language_info": {
   "codemirror_mode": {
    "name": "ipython",
    "version": 3
   },
   "file_extension": ".py",
   "mimetype": "text/x-python",
   "name": "python",
   "nbconvert_exporter": "python",
   "pygments_lexer": "ipython3",
   "version": "3.9.7"
  }
 },
 "nbformat": 4,
 "nbformat_minor": 5
}
