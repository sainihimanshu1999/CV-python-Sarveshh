{
 "cells": [
  {
   "cell_type": "code",
   "execution_count": 1,
   "id": "c391771c",
   "metadata": {},
   "outputs": [],
   "source": [
    "# More understanding of while loop"
   ]
  },
  {
   "cell_type": "code",
   "execution_count": 6,
   "id": "7b89708c",
   "metadata": {},
   "outputs": [
    {
     "name": "stdout",
     "output_type": "stream",
     "text": [
      "* * * * * * * * * * \n",
      "* * * * * * * * * * \n",
      "* * * * * * * * * * \n",
      "* * * * * * * * * * \n",
      "* * * * * * * * * * \n",
      "* * * * * * * * * * \n",
      "* * * * * * * * * * \n",
      "* * * * * * * * * * \n",
      "* * * * * * * * * * \n",
      "* * * * * * * * * * \n"
     ]
    }
   ],
   "source": [
    "i = 0\n",
    "\n",
    "while i!=10:\n",
    "    \n",
    "    j = 0\n",
    "    while j!= 10:\n",
    "        print('*',end=' ')\n",
    "        j = j+1\n",
    "        \n",
    "        \n",
    "    print('')\n",
    "        \n",
    "    i = i+1\n",
    "    \n",
    "    \n",
    "# i = 0 - j will 6 time"
   ]
  },
  {
   "cell_type": "code",
   "execution_count": 11,
   "id": "7b841366",
   "metadata": {},
   "outputs": [
    {
     "name": "stdout",
     "output_type": "stream",
     "text": [
      "\n",
      "*\n",
      "**\n",
      "***\n",
      "****\n",
      "*****\n",
      "******\n",
      "*******\n",
      "********\n",
      "*********\n"
     ]
    }
   ],
   "source": [
    "# print a triangle\n",
    "\n",
    "i= 0\n",
    "\n",
    "while i!=10:\n",
    "    \n",
    "    j = 0\n",
    "    \n",
    "    while j!=i:\n",
    "        print('*',end='')\n",
    "        j = j+1\n",
    "        \n",
    "    print('')\n",
    "    i= i+1\n",
    "    \n",
    "    \n",
    "    "
   ]
  },
  {
   "cell_type": "code",
   "execution_count": 20,
   "id": "bdf5eccd",
   "metadata": {},
   "outputs": [
    {
     "name": "stdout",
     "output_type": "stream",
     "text": [
      "39123892\n"
     ]
    }
   ],
   "source": [
    "a = 29832193\n",
    "a = str(a)\n",
    "a = a[::-1]\n",
    "a = int(a)\n",
    "print(a)"
   ]
  },
  {
   "cell_type": "code",
   "execution_count": 21,
   "id": "d0533be7",
   "metadata": {},
   "outputs": [],
   "source": [
    "# password game"
   ]
  },
  {
   "cell_type": "code",
   "execution_count": 25,
   "id": "8ad44b62",
   "metadata": {},
   "outputs": [
    {
     "name": "stdout",
     "output_type": "stream",
     "text": [
      "Please enter your passwordapple\n",
      "apple\n",
      "Enter your passwordgrapes\n",
      "grapes apple\n",
      "Enter your passwordcherry\n",
      "cherry grapes\n",
      "Enter your passwordbanana\n"
     ]
    }
   ],
   "source": [
    "password = 'banana'\n",
    "\n",
    "prev = input('Please enter your password')\n",
    "\n",
    "if prev==password:\n",
    "    exit()\n",
    "    \n",
    "else:\n",
    "    print(prev)\n",
    "    \n",
    "    \n",
    "curr = prev\n",
    "\n",
    "\n",
    "while True:\n",
    "    curr = input('Enter your password')\n",
    "    \n",
    "    if curr == password or curr=='stop':\n",
    "        break\n",
    "        \n",
    "    else:\n",
    "        print('{} {}'.format(curr,prev))\n",
    "        prev = curr\n",
    "    "
   ]
  },
  {
   "cell_type": "code",
   "execution_count": null,
   "id": "1e24cde8",
   "metadata": {},
   "outputs": [],
   "source": []
  }
 ],
 "metadata": {
  "kernelspec": {
   "display_name": "Python 3 (ipykernel)",
   "language": "python",
   "name": "python3"
  },
  "language_info": {
   "codemirror_mode": {
    "name": "ipython",
    "version": 3
   },
   "file_extension": ".py",
   "mimetype": "text/x-python",
   "name": "python",
   "nbconvert_exporter": "python",
   "pygments_lexer": "ipython3",
   "version": "3.9.7"
  }
 },
 "nbformat": 4,
 "nbformat_minor": 5
}
