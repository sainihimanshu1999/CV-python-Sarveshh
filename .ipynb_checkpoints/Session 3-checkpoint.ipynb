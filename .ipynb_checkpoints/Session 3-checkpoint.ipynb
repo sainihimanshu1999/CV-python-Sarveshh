{
 "cells": [
  {
   "cell_type": "code",
   "execution_count": 1,
   "id": "2b7a83a9",
   "metadata": {},
   "outputs": [],
   "source": [
    "#dynamic typing"
   ]
  },
  {
   "cell_type": "code",
   "execution_count": 2,
   "id": "7c3c6473",
   "metadata": {},
   "outputs": [],
   "source": [
    "# in python you can reassign variables with different data types"
   ]
  },
  {
   "cell_type": "code",
   "execution_count": 3,
   "id": "0b94a4d2",
   "metadata": {},
   "outputs": [],
   "source": [
    "a = 80"
   ]
  },
  {
   "cell_type": "code",
   "execution_count": 4,
   "id": "2fb9386c",
   "metadata": {},
   "outputs": [
    {
     "name": "stdout",
     "output_type": "stream",
     "text": [
      "80\n"
     ]
    }
   ],
   "source": [
    "print(a)"
   ]
  },
  {
   "cell_type": "code",
   "execution_count": 5,
   "id": "98a336d0",
   "metadata": {},
   "outputs": [
    {
     "name": "stdout",
     "output_type": "stream",
     "text": [
      "<class 'int'>\n"
     ]
    }
   ],
   "source": [
    "print(type(a))"
   ]
  },
  {
   "cell_type": "code",
   "execution_count": 6,
   "id": "6ec20733",
   "metadata": {},
   "outputs": [],
   "source": [
    "a = 'sarveshh'\n",
    "\n"
   ]
  },
  {
   "cell_type": "code",
   "execution_count": 7,
   "id": "92cd3452",
   "metadata": {},
   "outputs": [
    {
     "name": "stdout",
     "output_type": "stream",
     "text": [
      "sarveshh\n"
     ]
    }
   ],
   "source": [
    "print(a)"
   ]
  },
  {
   "cell_type": "code",
   "execution_count": 8,
   "id": "802a421c",
   "metadata": {},
   "outputs": [
    {
     "name": "stdout",
     "output_type": "stream",
     "text": [
      "<class 'str'>\n"
     ]
    }
   ],
   "source": [
    "print(type(a))"
   ]
  },
  {
   "cell_type": "code",
   "execution_count": 11,
   "id": "fb58e58e",
   "metadata": {},
   "outputs": [],
   "source": [
    "# strings are stored in sequence\n",
    "# we can get individual elements from string through indexing\n",
    "# in pyhton the counting starts from zero"
   ]
  },
  {
   "cell_type": "code",
   "execution_count": 12,
   "id": "15b5a3e9",
   "metadata": {},
   "outputs": [],
   "source": [
    "a = 'hello'\n",
    "# h - 0  e - 1  l - 2  l- 3 o- 4"
   ]
  },
  {
   "cell_type": "code",
   "execution_count": 13,
   "id": "92dba2a4",
   "metadata": {},
   "outputs": [
    {
     "name": "stdout",
     "output_type": "stream",
     "text": [
      "hello\n"
     ]
    }
   ],
   "source": [
    "print(a)"
   ]
  },
  {
   "cell_type": "code",
   "execution_count": 20,
   "id": "0fd798d1",
   "metadata": {},
   "outputs": [
    {
     "ename": "IndexError",
     "evalue": "string index out of range",
     "output_type": "error",
     "traceback": [
      "\u001b[0;31m---------------------------------------------------------------------------\u001b[0m",
      "\u001b[0;31mIndexError\u001b[0m                                Traceback (most recent call last)",
      "\u001b[0;32m/tmp/ipykernel_4292/19033829.py\u001b[0m in \u001b[0;36m<module>\u001b[0;34m\u001b[0m\n\u001b[1;32m      1\u001b[0m \u001b[0;31m# index out of thr range error might appear/\u001b[0m\u001b[0;34m\u001b[0m\u001b[0;34m\u001b[0m\u001b[0m\n\u001b[0;32m----> 2\u001b[0;31m \u001b[0mprint\u001b[0m\u001b[0;34m(\u001b[0m\u001b[0ma\u001b[0m\u001b[0;34m[\u001b[0m\u001b[0;36m5\u001b[0m\u001b[0;34m]\u001b[0m\u001b[0;34m)\u001b[0m\u001b[0;34m\u001b[0m\u001b[0;34m\u001b[0m\u001b[0m\n\u001b[0m",
      "\u001b[0;31mIndexError\u001b[0m: string index out of range"
     ]
    }
   ],
   "source": [
    "# index out of thr range error might appear/\n",
    "print(a[5])"
   ]
  },
  {
   "cell_type": "code",
   "execution_count": 23,
   "id": "1033d396",
   "metadata": {},
   "outputs": [],
   "source": [
    "b = \"hello this is saverssh's book\"\n",
    "c = 'hi'"
   ]
  },
  {
   "cell_type": "code",
   "execution_count": 24,
   "id": "0cc4fad4",
   "metadata": {},
   "outputs": [
    {
     "name": "stdout",
     "output_type": "stream",
     "text": [
      "hello this is saverssh's book hi\n"
     ]
    }
   ],
   "source": [
    "print(b,c)"
   ]
  },
  {
   "cell_type": "code",
   "execution_count": 25,
   "id": "4a2bb0ad",
   "metadata": {},
   "outputs": [],
   "source": [
    "# string slicing"
   ]
  },
  {
   "cell_type": "code",
   "execution_count": 27,
   "id": "8c11be12",
   "metadata": {},
   "outputs": [],
   "source": [
    "d = 'icecream'\n",
    "# i - 0 c -1 e - 2 c -3 r-4 e-5 a-6 m-7"
   ]
  },
  {
   "cell_type": "code",
   "execution_count": 29,
   "id": "44697e2f",
   "metadata": {},
   "outputs": [
    {
     "name": "stdout",
     "output_type": "stream",
     "text": [
      "ice\n"
     ]
    }
   ],
   "source": [
    "# after the colon the index is not included\n",
    "print(d[:3])"
   ]
  },
  {
   "cell_type": "code",
   "execution_count": 30,
   "id": "d07a57d2",
   "metadata": {},
   "outputs": [
    {
     "name": "stdout",
     "output_type": "stream",
     "text": [
      "cream\n"
     ]
    }
   ],
   "source": [
    "# before the colon index in included\n",
    "print(d[3:])"
   ]
  },
  {
   "cell_type": "code",
   "execution_count": 31,
   "id": "8b67679f",
   "metadata": {},
   "outputs": [],
   "source": [
    "# indexing s[start:end]"
   ]
  },
  {
   "cell_type": "code",
   "execution_count": 32,
   "id": "a8054846",
   "metadata": {},
   "outputs": [],
   "source": [
    "v = 'spyisde'"
   ]
  },
  {
   "cell_type": "code",
   "execution_count": 33,
   "id": "7a523cc0",
   "metadata": {},
   "outputs": [
    {
     "name": "stdout",
     "output_type": "stream",
     "text": [
      "s\n"
     ]
    }
   ],
   "source": [
    "print(v[3])"
   ]
  },
  {
   "cell_type": "code",
   "execution_count": 34,
   "id": "b6a13943",
   "metadata": {},
   "outputs": [
    {
     "name": "stdout",
     "output_type": "stream",
     "text": [
      "spys\n"
     ]
    }
   ],
   "source": [
    "print(v[:4])"
   ]
  },
  {
   "cell_type": "code",
   "execution_count": 35,
   "id": "eb601ff8",
   "metadata": {},
   "outputs": [
    {
     "name": "stdout",
     "output_type": "stream",
     "text": [
      "yside\n"
     ]
    }
   ],
   "source": [
    "print(v[2:])"
   ]
  },
  {
   "cell_type": "code",
   "execution_count": 36,
   "id": "6aa759fe",
   "metadata": {},
   "outputs": [
    {
     "name": "stdout",
     "output_type": "stream",
     "text": [
      "ysi\n"
     ]
    }
   ],
   "source": [
    "print(v[2:5])"
   ]
  },
  {
   "cell_type": "code",
   "execution_count": 40,
   "id": "c713f35f",
   "metadata": {},
   "outputs": [
    {
     "name": "stdout",
     "output_type": "stream",
     "text": [
      "e\n"
     ]
    }
   ],
   "source": [
    "print(v[-1])"
   ]
  },
  {
   "cell_type": "code",
   "execution_count": 41,
   "id": "758b03ad",
   "metadata": {},
   "outputs": [
    {
     "name": "stdout",
     "output_type": "stream",
     "text": [
      "edisyps\n"
     ]
    }
   ],
   "source": [
    "# reversing of the string\n",
    "print(v[::-1])"
   ]
  },
  {
   "cell_type": "code",
   "execution_count": 42,
   "id": "6d206fb8",
   "metadata": {},
   "outputs": [],
   "source": [
    "# v[::interval]"
   ]
  },
  {
   "cell_type": "code",
   "execution_count": 45,
   "id": "4563cb56",
   "metadata": {},
   "outputs": [
    {
     "name": "stdout",
     "output_type": "stream",
     "text": [
      "edisyps\n"
     ]
    }
   ],
   "source": [
    "print(v[::-1]) #v = 'spyisde'"
   ]
  },
  {
   "cell_type": "code",
   "execution_count": 46,
   "id": "b5c806bd",
   "metadata": {},
   "outputs": [],
   "source": [
    "x = 'motorcycle'"
   ]
  },
  {
   "cell_type": "code",
   "execution_count": 47,
   "id": "a62066d9",
   "metadata": {},
   "outputs": [],
   "source": [
    "# strings are immutable"
   ]
  },
  {
   "cell_type": "code",
   "execution_count": 48,
   "id": "70086151",
   "metadata": {},
   "outputs": [
    {
     "name": "stdout",
     "output_type": "stream",
     "text": [
      "m\n"
     ]
    }
   ],
   "source": [
    "print(x[0])"
   ]
  },
  {
   "cell_type": "code",
   "execution_count": 49,
   "id": "16305697",
   "metadata": {},
   "outputs": [
    {
     "ename": "TypeError",
     "evalue": "'str' object does not support item assignment",
     "output_type": "error",
     "traceback": [
      "\u001b[0;31m---------------------------------------------------------------------------\u001b[0m",
      "\u001b[0;31mTypeError\u001b[0m                                 Traceback (most recent call last)",
      "\u001b[0;32m/tmp/ipykernel_4292/3263790148.py\u001b[0m in \u001b[0;36m<module>\u001b[0;34m\u001b[0m\n\u001b[0;32m----> 1\u001b[0;31m \u001b[0mx\u001b[0m \u001b[0;34m[\u001b[0m\u001b[0;36m0\u001b[0m\u001b[0;34m]\u001b[0m \u001b[0;34m=\u001b[0m \u001b[0;34m'k'\u001b[0m\u001b[0;34m\u001b[0m\u001b[0;34m\u001b[0m\u001b[0m\n\u001b[0m",
      "\u001b[0;31mTypeError\u001b[0m: 'str' object does not support item assignment"
     ]
    }
   ],
   "source": [
    "x [0] = 'k'"
   ]
  },
  {
   "cell_type": "code",
   "execution_count": 50,
   "id": "79981a3a",
   "metadata": {},
   "outputs": [
    {
     "name": "stdout",
     "output_type": "stream",
     "text": [
      "motorcycle\n"
     ]
    }
   ],
   "source": [
    "print(x)"
   ]
  },
  {
   "cell_type": "code",
   "execution_count": 62,
   "id": "06bfed7c",
   "metadata": {},
   "outputs": [],
   "source": [
    "c = 'sabari'\n",
    "a = 'RAJAN'\n",
    "b = 'sarvessh'"
   ]
  },
  {
   "cell_type": "code",
   "execution_count": 52,
   "id": "aab5ee7c",
   "metadata": {},
   "outputs": [
    {
     "name": "stdout",
     "output_type": "stream",
     "text": [
      "sabarirajansarvessh\n"
     ]
    }
   ],
   "source": [
    "print(c+a+b)"
   ]
  },
  {
   "cell_type": "code",
   "execution_count": 53,
   "id": "e12ea5d2",
   "metadata": {},
   "outputs": [
    {
     "name": "stdout",
     "output_type": "stream",
     "text": [
      "sabari rajan sarvessh\n"
     ]
    }
   ],
   "source": [
    "print(c+' '+a+' '+b)"
   ]
  },
  {
   "cell_type": "code",
   "execution_count": 54,
   "id": "6dd2c439",
   "metadata": {},
   "outputs": [],
   "source": [
    "d = c+' '+a+' '+b"
   ]
  },
  {
   "cell_type": "code",
   "execution_count": 55,
   "id": "977f8a53",
   "metadata": {},
   "outputs": [
    {
     "name": "stdout",
     "output_type": "stream",
     "text": [
      "sabari rajan sarvessh\n"
     ]
    }
   ],
   "source": [
    "print(d)"
   ]
  },
  {
   "cell_type": "code",
   "execution_count": 57,
   "id": "ed0ec613",
   "metadata": {},
   "outputs": [
    {
     "name": "stdout",
     "output_type": "stream",
     "text": [
      "s\n"
     ]
    }
   ],
   "source": [
    "print(d[13])"
   ]
  },
  {
   "cell_type": "code",
   "execution_count": 58,
   "id": "9e7e1871",
   "metadata": {},
   "outputs": [
    {
     "name": "stdout",
     "output_type": "stream",
     "text": [
      "hssevras najar irabas\n"
     ]
    }
   ],
   "source": [
    "print(d[::-1])"
   ]
  },
  {
   "cell_type": "code",
   "execution_count": 59,
   "id": "5743cb61",
   "metadata": {},
   "outputs": [
    {
     "ename": "SyntaxError",
     "evalue": "unmatched ')' (1148474989.py, line 1)",
     "output_type": "error",
     "traceback": [
      "\u001b[0;36m  File \u001b[0;32m\"/tmp/ipykernel_4292/1148474989.py\"\u001b[0;36m, line \u001b[0;32m1\u001b[0m\n\u001b[0;31m    print)c\u001b[0m\n\u001b[0m         ^\u001b[0m\n\u001b[0;31mSyntaxError\u001b[0m\u001b[0;31m:\u001b[0m unmatched ')'\n"
     ]
    }
   ],
   "source": [
    "print)c"
   ]
  },
  {
   "cell_type": "code",
   "execution_count": 60,
   "id": "305b5f5d",
   "metadata": {},
   "outputs": [
    {
     "name": "stdout",
     "output_type": "stream",
     "text": [
      "sabari\n"
     ]
    }
   ],
   "source": [
    "print(c)"
   ]
  },
  {
   "cell_type": "code",
   "execution_count": 61,
   "id": "6f8bcb46",
   "metadata": {},
   "outputs": [
    {
     "name": "stdout",
     "output_type": "stream",
     "text": [
      "SABARI\n"
     ]
    }
   ],
   "source": [
    "print(c.upper())"
   ]
  },
  {
   "cell_type": "code",
   "execution_count": 64,
   "id": "8319ec0a",
   "metadata": {},
   "outputs": [
    {
     "name": "stdout",
     "output_type": "stream",
     "text": [
      "RAJAN\n"
     ]
    }
   ],
   "source": [
    "print(a)"
   ]
  },
  {
   "cell_type": "code",
   "execution_count": 65,
   "id": "29d47711",
   "metadata": {},
   "outputs": [
    {
     "name": "stdout",
     "output_type": "stream",
     "text": [
      "rajan\n"
     ]
    }
   ],
   "source": [
    "print(a.lower())"
   ]
  },
  {
   "cell_type": "code",
   "execution_count": 66,
   "id": "fad7e444",
   "metadata": {},
   "outputs": [
    {
     "name": "stdout",
     "output_type": "stream",
     "text": [
      "sabari rajan sarvessh\n"
     ]
    }
   ],
   "source": [
    "print(d)"
   ]
  },
  {
   "cell_type": "code",
   "execution_count": 67,
   "id": "365f1319",
   "metadata": {},
   "outputs": [
    {
     "name": "stdout",
     "output_type": "stream",
     "text": [
      "['sabari', 'rajan', 'sarvessh']\n"
     ]
    }
   ],
   "source": [
    "print(d.split())"
   ]
  },
  {
   "cell_type": "code",
   "execution_count": 68,
   "id": "02135ca0",
   "metadata": {},
   "outputs": [
    {
     "name": "stdout",
     "output_type": "stream",
     "text": [
      "['', 'abari rajan ', 'arve', '', 'h']\n"
     ]
    }
   ],
   "source": [
    "print(d.split('s'))"
   ]
  },
  {
   "cell_type": "code",
   "execution_count": null,
   "id": "0e64c0cd",
   "metadata": {},
   "outputs": [],
   "source": []
  },
  {
   "cell_type": "code",
   "execution_count": null,
   "id": "3a2e4e78",
   "metadata": {},
   "outputs": [],
   "source": []
  }
 ],
 "metadata": {
  "kernelspec": {
   "display_name": "Python 3 (ipykernel)",
   "language": "python",
   "name": "python3"
  },
  "language_info": {
   "codemirror_mode": {
    "name": "ipython",
    "version": 3
   },
   "file_extension": ".py",
   "mimetype": "text/x-python",
   "name": "python",
   "nbconvert_exporter": "python",
   "pygments_lexer": "ipython3",
   "version": "3.9.7"
  }
 },
 "nbformat": 4,
 "nbformat_minor": 5
}
