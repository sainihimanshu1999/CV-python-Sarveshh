{
 "cells": [
  {
   "cell_type": "code",
   "execution_count": 1,
   "id": "137fcb22",
   "metadata": {},
   "outputs": [],
   "source": [
    "#WHILE LOOP\n",
    "# while conditon:\n",
    "    #code executiom\n",
    "    #condition"
   ]
  },
  {
   "cell_type": "code",
   "execution_count": 2,
   "id": "6923a0d4",
   "metadata": {},
   "outputs": [
    {
     "name": "stdout",
     "output_type": "stream",
     "text": [
      "0\n",
      "1\n",
      "2\n",
      "3\n",
      "4\n",
      "5\n",
      "6\n",
      "7\n",
      "8\n",
      "9\n",
      "10\n",
      "11\n",
      "12\n",
      "13\n",
      "14\n",
      "15\n",
      "16\n",
      "17\n",
      "18\n",
      "19\n",
      "20\n",
      "21\n",
      "22\n",
      "23\n",
      "24\n",
      "25\n",
      "26\n",
      "27\n",
      "28\n",
      "29\n",
      "30\n",
      "31\n",
      "32\n",
      "33\n",
      "34\n",
      "35\n",
      "36\n",
      "37\n",
      "38\n",
      "39\n",
      "40\n",
      "41\n",
      "42\n",
      "43\n",
      "44\n",
      "45\n",
      "46\n",
      "47\n",
      "48\n",
      "49\n",
      "50\n",
      "51\n",
      "52\n",
      "53\n",
      "54\n",
      "55\n",
      "56\n",
      "57\n",
      "58\n",
      "59\n",
      "60\n",
      "61\n",
      "62\n",
      "63\n",
      "64\n",
      "65\n",
      "66\n",
      "67\n",
      "68\n",
      "69\n",
      "70\n",
      "71\n",
      "72\n",
      "73\n",
      "74\n",
      "75\n",
      "76\n",
      "77\n",
      "78\n",
      "79\n",
      "80\n",
      "81\n",
      "82\n",
      "83\n",
      "84\n",
      "85\n",
      "86\n",
      "87\n",
      "88\n",
      "89\n",
      "90\n",
      "91\n",
      "92\n",
      "93\n",
      "94\n",
      "95\n",
      "96\n",
      "97\n",
      "98\n",
      "99\n",
      "100\n"
     ]
    }
   ],
   "source": [
    "i = 0\n",
    "while i<=100:\n",
    "    print(i)\n",
    "    i = i+1\n",
    "    # i = 0+1 = i\n",
    "    #i = 1+1 = 2\n",
    "    #i = 2+1  =3\n",
    "    \n",
    "    "
   ]
  },
  {
   "cell_type": "code",
   "execution_count": 3,
   "id": "b2516e22",
   "metadata": {},
   "outputs": [],
   "source": [
    "# two table"
   ]
  },
  {
   "cell_type": "code",
   "execution_count": 5,
   "id": "7556b363",
   "metadata": {},
   "outputs": [
    {
     "name": "stdout",
     "output_type": "stream",
     "text": [
      "0\n",
      "2\n",
      "4\n",
      "6\n",
      "8\n",
      "10\n",
      "12\n",
      "14\n",
      "16\n",
      "18\n",
      "20\n",
      "22\n",
      "24\n",
      "26\n",
      "28\n",
      "30\n",
      "32\n",
      "34\n",
      "36\n",
      "38\n",
      "40\n",
      "42\n",
      "44\n",
      "46\n",
      "48\n",
      "50\n",
      "52\n",
      "54\n",
      "56\n",
      "58\n",
      "60\n",
      "62\n",
      "64\n",
      "66\n",
      "68\n",
      "70\n",
      "72\n",
      "74\n",
      "76\n",
      "78\n",
      "80\n",
      "82\n",
      "84\n",
      "86\n",
      "88\n",
      "90\n",
      "92\n",
      "94\n",
      "96\n",
      "98\n"
     ]
    }
   ],
   "source": [
    "i = 0\n",
    "while i<100:\n",
    "    print(i)\n",
    "    i = i+2"
   ]
  },
  {
   "cell_type": "code",
   "execution_count": 6,
   "id": "bf1e9044",
   "metadata": {},
   "outputs": [],
   "source": [
    "lst = ['Roblox','data wings','minecraft','critical ops','mech arena','Call of duty mobile']"
   ]
  },
  {
   "cell_type": "code",
   "execution_count": 10,
   "id": "f26d8a21",
   "metadata": {},
   "outputs": [
    {
     "name": "stdout",
     "output_type": "stream",
     "text": [
      "mech arena\n",
      "Roblox\n",
      "6\n",
      "data wings\n"
     ]
    }
   ],
   "source": [
    "print(lst[4])\n",
    "print(lst[0])\n",
    "print(len(lst))\n",
    "print(lst[1])"
   ]
  },
  {
   "cell_type": "code",
   "execution_count": 14,
   "id": "a630c0c2",
   "metadata": {},
   "outputs": [
    {
     "name": "stdout",
     "output_type": "stream",
     "text": [
      "Roblox\n",
      "data wings\n",
      "minecraft\n",
      "critical ops\n",
      "mech arena\n",
      "Call of duty mobile\n"
     ]
    }
   ],
   "source": [
    "i = 0\n",
    "\n",
    "while i<len(lst):\n",
    "    print(lst[i])\n",
    "    # lst[0]\n",
    "    #lst[1]\n",
    "    #lst[2]\n",
    "    i += 1"
   ]
  },
  {
   "cell_type": "code",
   "execution_count": 13,
   "id": "5b2ed9eb",
   "metadata": {},
   "outputs": [],
   "source": [
    "# one cycle of loop is called an iteration"
   ]
  },
  {
   "cell_type": "code",
   "execution_count": 20,
   "id": "7d411c34",
   "metadata": {},
   "outputs": [
    {
     "name": "stdout",
     "output_type": "stream",
     "text": [
      "3\n",
      "4\n",
      "5\n",
      "8\n",
      "9\n",
      "10\n"
     ]
    }
   ],
   "source": [
    "x = 3\n",
    "\n",
    "while x<=10:\n",
    "    print(x)\n",
    "    \n",
    "    x = x+1\n",
    "    \n",
    "    if x == 3:\n",
    "        break\n",
    "        \n",
    "    elif x == 6:\n",
    "        x = x+2 \n",
    "        continue\n",
    "        \n",
    "    else:\n",
    "        pass\n",
    "    \n",
    "    "
   ]
  },
  {
   "cell_type": "code",
   "execution_count": 21,
   "id": "cb4b1b6a",
   "metadata": {},
   "outputs": [],
   "source": [
    "# fibbonacci series till 100"
   ]
  },
  {
   "cell_type": "code",
   "execution_count": null,
   "id": "d3c4005d",
   "metadata": {},
   "outputs": [],
   "source": [
    "0,1,1,2,3,5,8,13"
   ]
  },
  {
   "cell_type": "code",
   "execution_count": null,
   "id": "a7857d97",
   "metadata": {},
   "outputs": [],
   "source": []
  },
  {
   "cell_type": "code",
   "execution_count": null,
   "id": "f269c0ed",
   "metadata": {},
   "outputs": [],
   "source": []
  },
  {
   "cell_type": "code",
   "execution_count": null,
   "id": "3c4e1b96",
   "metadata": {},
   "outputs": [],
   "source": []
  },
  {
   "cell_type": "code",
   "execution_count": null,
   "id": "cfc03fbd",
   "metadata": {},
   "outputs": [],
   "source": []
  },
  {
   "cell_type": "code",
   "execution_count": null,
   "id": "23788361",
   "metadata": {},
   "outputs": [],
   "source": []
  },
  {
   "cell_type": "code",
   "execution_count": null,
   "id": "65fc20bd",
   "metadata": {},
   "outputs": [],
   "source": []
  },
  {
   "cell_type": "code",
   "execution_count": null,
   "id": "5800f36b",
   "metadata": {},
   "outputs": [],
   "source": []
  }
 ],
 "metadata": {
  "kernelspec": {
   "display_name": "Python 3 (ipykernel)",
   "language": "python",
   "name": "python3"
  },
  "language_info": {
   "codemirror_mode": {
    "name": "ipython",
    "version": 3
   },
   "file_extension": ".py",
   "mimetype": "text/x-python",
   "name": "python",
   "nbconvert_exporter": "python",
   "pygments_lexer": "ipython3",
   "version": "3.9.7"
  }
 },
 "nbformat": 4,
 "nbformat_minor": 5
}
